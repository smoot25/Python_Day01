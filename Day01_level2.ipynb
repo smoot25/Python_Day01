{
  "cells": [
    {
      "cell_type": "markdown",
      "metadata": {
        "id": "WXEwMsfUct7U"
      },
      "source": [
        "안녕하세요.<br><br>\n",
        "수강생 여러분~!\n",
        "\n",
        "\"Challenge : 사칙연산을 이용해 문제 풀기\"는 잘 풀어보셨나요?\n",
        "\n",
        "\n",
        "너~~무 어려웠어요! 하는 분들을 위해 만들어봤습니다!\n",
        "\n",
        "문제 도장깨기 !!!!!\n",
        "\n",
        "차근차근 풀어나가면 파이썬 정복 가능입니다!\n",
        "\n",
        "화이팅 !\n",
        "\n",
        "Chapter04의 수업 내용을 바탕으로 아래 문제를 풀어주시면 됩니다.\n",
        "\n",
        "<br/>\n",
        "간혹 강의에서 언급되지 않은 내용이 문제로 나올 수 있습니다.<br>\n",
        "그럴땐 강의 내용 외 문제는 구글링을 통해 해결해주세요<br></span>\n",
        "<span style=\"font-size:80%\">\n",
        "(구글링 또한 개발자가 갖쳐야할 역량 중에 하나랍니다 😊)\n",
        "</span>\n",
        "\n",
        "\n",
        "<br>\n",
        "<br>\n",
        "\n",
        "[**답변 입력 방법**]\n",
        "\n",
        "문제 아래에 있는 코드 입력창에 정답코드를 작성하신 후  __▷ 버튼을 클릭해 코드를 실행__ 해보세요<br>\n",
        "<br>"
      ]
    },
    {
      "cell_type": "markdown",
      "metadata": {
        "id": "qoyC9wF-3hvs"
      },
      "source": [
        "-----"
      ]
    },
    {
      "cell_type": "markdown",
      "metadata": {
        "id": "IT-n73MOTais"
      },
      "source": [
        "<br>\n",
        "\n",
        "__[문제1]__\n",
        "\n",
        "한 주머니에 사탕이 5개씩 들어있습니다.\n",
        "\n",
        "바리바리스타인 나에게는 3개의 주머니가 있습니다!\n",
        "\n",
        "근데 길가다가 사탕을 주웠습니다. 그래서 사탕 3개가 주머니에 더 추가되었습니다.\n",
        "\n",
        "최종적으로 주머니에 들어있는 사탕의 총 개수는 얼마인가요?\n",
        "\n",
        "<br>"
      ]
    },
    {
      "cell_type": "code",
      "execution_count": 1,
      "metadata": {
        "id": "1RJ_D2EGTais"
      },
      "outputs": [
        {
          "name": "stdout",
          "output_type": "stream",
          "text": [
            "18개\n"
          ]
        }
      ],
      "source": [
        "candy = 5\n",
        "poket = 3\n",
        "i_have_now = candy * poket\n",
        "add_candy = 3\n",
        "all_candy = i_have_now  + add_candy\n",
        "\n",
        "\n",
        "print(f\"{all_candy}개\")"
      ]
    },
    {
      "cell_type": "markdown",
      "metadata": {
        "id": "xCC68qp3Tait"
      },
      "source": [
        "<br>\n",
        "\n",
        "__[문제2]__\n",
        "\n",
        "10명이 각자 4개의 공을 가지고 있습니다.\n",
        "\n",
        "운이 좋은 3명이 2개의 공을 더 받았습니다.\n",
        "\n",
        "10명이 가진 모든 공의 총 개수를 구하세요.\n"
      ]
    },
    {
      "cell_type": "code",
      "execution_count": 3,
      "metadata": {
        "id": "2zoDcj1ITaiu"
      },
      "outputs": [
        {
          "name": "stdout",
          "output_type": "stream",
          "text": [
            "46개\n"
          ]
        }
      ],
      "source": [
        "person = 10\n",
        "have_balls = 4\n",
        "lucky_guys = 3\n",
        "plus_balls = 2\n",
        "\n",
        "already = person * have_balls\n",
        "add_balls = lucky_guys * plus_balls\n",
        "\n",
        "final_balls = already + add_balls\n",
        "\n",
        "print(f\"{final_balls}개\")"
      ]
    },
    {
      "cell_type": "markdown",
      "metadata": {
        "id": "vYmoL8LjTaiv"
      },
      "source": [
        "<br>\n",
        "\n",
        "__[문제3]__\n",
        "\n",
        "5명의 학생이 3시간씩 공부했습니다.\n",
        "\n",
        "이상한 강박관념이 있는 나는 모든 시간을 분으로 계산하고 싶습니다.\n",
        "\n",
        "대신 계산해주세요 !\n"
      ]
    },
    {
      "cell_type": "code",
      "execution_count": 4,
      "metadata": {
        "id": "74wtVQFFc_h1"
      },
      "outputs": [
        {
          "name": "stdout",
          "output_type": "stream",
          "text": [
            "900분\n"
          ]
        }
      ],
      "source": [
        "minute = 60\n",
        "student = 5\n",
        "study = 3\n",
        "\n",
        "all_study = student * study\n",
        "study_minute = all_study * minute\n",
        "\n",
        "print(f\"{study_minute}분\")"
      ]
    },
    {
      "cell_type": "markdown",
      "metadata": {
        "id": "PsT4tvOQTaiz"
      },
      "source": [
        "<br>\n",
        "\n",
        "__[문제4]__\n",
        "\n",
        "차가 9리터의 연료를 가지고 있습니다.\n",
        "\n",
        "연료가 3일 동안 계속 줄어들며, 하루에 2리터씩 소비됩니다.\n",
        "\n",
        "3일 뒤 차에 남은 연료는 몇 리터인가요?"
      ]
    },
    {
      "cell_type": "code",
      "execution_count": 5,
      "metadata": {
        "id": "9kvBxa6PdhgA"
      },
      "outputs": [
        {
          "name": "stdout",
          "output_type": "stream",
          "text": [
            "3L\n"
          ]
        }
      ],
      "source": [
        "have_oil =  9\n",
        "spend_oil = 2\n",
        "day = 3\n",
        "\n",
        "use_oil = spend_oil * day\n",
        "now_oil = have_oil - use_oil\n",
        "\n",
        "print(f\"{now_oil}L\")"
      ]
    },
    {
      "cell_type": "markdown",
      "metadata": {
        "id": "2Jte2VLKdiPm"
      },
      "source": [
        "__[문제5]__\n",
        "\n",
        "어떤 정사각형의 넓이가 144cm²입니다.\n",
        "\n",
        "정사각형의 한 변의 길이를 구하세요.\n"
      ]
    },
    {
      "cell_type": "code",
      "execution_count": 7,
      "metadata": {
        "id": "nMsEE2XdTai1"
      },
      "outputs": [
        {
          "name": "stdout",
          "output_type": "stream",
          "text": [
            "12cm\n"
          ]
        }
      ],
      "source": [
        "expend = 144\n",
        "square_root = 0.5\n",
        "length = int(expend ** square_root)\n",
        "\n",
        "print(f\"{length}cm\")"
      ]
    },
    {
      "cell_type": "markdown",
      "metadata": {
        "id": "VeKfloDEU3C5"
      },
      "source": [
        "<br>\n",
        "\n",
        "__[문제6]__\n",
        "\n",
        "오즈 코딩 스쿨 백엔드 과정에 참여한 수강생 중 5명의 수강생이 자율적으로 스터디 그룹을 결성했습니다.\n",
        "\n",
        "스터디 그룹 내에는 한 주간 배운 내용으로 매주 쪽지 시험을 보는 룰이 있습니다.\n",
        "\n",
        "이 쪽지 시험의 평균이 70점이 넘으면 주말 스터디는 없습니다.\n",
        "\n",
        "이들의 평균 점수를 대신 계산해주세요.\n",
        "\n",
        "<br>\n",
        "A: 65, B: 75, C: 50, D: 80, E: 60\n",
        "\n",
        "<br>\n"
      ]
    },
    {
      "cell_type": "code",
      "execution_count": 9,
      "metadata": {
        "id": "avyqM7U7U3C6"
      },
      "outputs": [
        {
          "name": "stdout",
          "output_type": "stream",
          "text": [
            "평균은 66.0점 입니다.\n",
            "주말에도 남아서 공부합시다.^^\n"
          ]
        }
      ],
      "source": [
        "all_add_score = 65 + 75 + 50 + 80 + 60\n",
        "student = 5\n",
        "average_score = all_add_score / student\n",
        "\n",
        "if average_score >= 70 :\n",
        "    print(f\"평균은 {average_score}점 입니다.\")\n",
        "    print(\"주말 스터디는 없습니다.\")\n",
        "\n",
        "else :\n",
        "    print(f\"평균은 {average_score}점 입니다.\")\n",
        "    print(\"주말에도 남아서 공부합시다.^^\")"
      ]
    }
  ],
  "metadata": {
    "colab": {
      "provenance": []
    },
    "kernelspec": {
      "display_name": "Python 3",
      "name": "python3"
    },
    "language_info": {
      "codemirror_mode": {
        "name": "ipython",
        "version": 3
      },
      "file_extension": ".py",
      "mimetype": "text/x-python",
      "name": "python",
      "nbconvert_exporter": "python",
      "pygments_lexer": "ipython3",
      "version": "3.13.7"
    }
  },
  "nbformat": 4,
  "nbformat_minor": 0
}
